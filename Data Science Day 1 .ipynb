{
 "cells": [
  {
   "cell_type": "code",
   "execution_count": 1,
   "metadata": {},
   "outputs": [
    {
     "name": "stdout",
     "output_type": "stream",
     "text": [
      "bourani\n",
      "{'bowran', 'bourani'}\n",
      "rowan\n",
      "{'rabbani', 'rowans', 'rowan', 'romani'}\n",
      "rainbow\n",
      "{'rainbow'}\n"
     ]
    }
   ],
   "source": [
    "# Question and Answer 1\n",
    "\n",
    "# Given the following jumbled word, OBANWRI guess the correct English word.\n",
    "\n",
    "from spellchecker import SpellChecker\n",
    "spell = SpellChecker()\n",
    " \n",
    "# Find those words that may be incorrect or misspelled\n",
    "misspelled = spell.unknown([ \"RANIBOW\", \"RAINBOW\", \"BOWRANI\", \"ROBWANI\"])\n",
    " \n",
    "for word in misspelled:\n",
    "    # Get the one `most likely` answer\n",
    "    print(spell.correction(word))\n",
    " \n",
    "    # Get a list of `likely` options\n",
    "    print(spell.candidates(word))"
   ]
  },
  {
   "cell_type": "code",
   "execution_count": 2,
   "metadata": {},
   "outputs": [
    {
     "name": "stdout",
     "output_type": "stream",
     "text": [
      "What's your favourite Online teaching community? lets upgrade\n",
      "My favourite  Online teaching community is  LETS UPGRADE\n"
     ]
    }
   ],
   "source": [
    "# Question and Answer 2\n",
    "\n",
    "\n",
    "\n",
    "#Write a program which prints “LETS UPGRADE”. (Please note that you have to\n",
    "#print in ALL CAPS as given)\n",
    "\n",
    "user_input = input(\"What's your favourite Online teaching community? \")\n",
    "print(\"My favourite  Online teaching community is \", user_input.upper())"
   ]
  },
  {
   "cell_type": "code",
   "execution_count": 3,
   "metadata": {},
   "outputs": [
    {
     "name": "stdout",
     "output_type": "stream",
     "text": [
      "500 Profit\n",
      "500 Loss\n",
      "Neither\n"
     ]
    }
   ],
   "source": [
    "# Question and Answer 3\n",
    "\n",
    "# Write a program that takes cost price and selling price as input and displays whether the transaction is a\n",
    "# Profit or a Loss or Neither.\n",
    "  \n",
    "# Function to calculate Profit. \n",
    "def Profit(costPrice, sellingPrice) : \n",
    "    profit = (sellingPrice - costPrice) \n",
    "    return profit \n",
    "  \n",
    "# Function to calculate Loss. \n",
    "def Loss(costPrice, sellingPrice) : \n",
    "    Loss = (costPrice - sellingPrice) \n",
    "    return Loss \n",
    "# Test case 1 \n",
    "if __name__ == \"__main__\" : \n",
    "    costPrice, sellingPrice = 1500, 2000\n",
    "    if sellingPrice == costPrice : \n",
    "        print(\"No profit nor Loss\") \n",
    "    elif sellingPrice > costPrice : \n",
    "        print(Profit(costPrice,  \n",
    "                   sellingPrice), \"Profit\") \n",
    "    else : \n",
    "        print(Loss(costPrice,  \n",
    "                   sellingPrice), \"Loss\") \n",
    "        \n",
    "# Test Case 2\n",
    "if __name__ == \"__main__\" : \n",
    "    costPrice, sellingPrice = 2500, 2000\n",
    "    if sellingPrice == costPrice : \n",
    "        print(\"No profit nor Loss\") \n",
    "    elif sellingPrice > costPrice : \n",
    "        print(Profit(costPrice,  \n",
    "                   sellingPrice), \"Profit\") \n",
    "    else : \n",
    "        print(Loss(costPrice,  \n",
    "                   sellingPrice), \"Loss\") \n",
    "        \n",
    "# Test Case 3\n",
    "if __name__ == \"__main__\" : \n",
    "    costPrice, sellingPrice = 2000, 2000\n",
    "    if sellingPrice == costPrice : \n",
    "        print(\"Neither\") \n",
    "    elif sellingPrice > costPrice : \n",
    "        print(Profit(costPrice,  \n",
    "                   sellingPrice), \"Profit\") \n",
    "    else : \n",
    "        print(Loss(costPrice,  \n",
    "                   sellingPrice), \"Loss\") "
   ]
  },
  {
   "cell_type": "code",
   "execution_count": 4,
   "metadata": {},
   "outputs": [
    {
     "name": "stdout",
     "output_type": "stream",
     "text": [
      "Please enter Euros:10\n",
      "800.0  Rupees\n"
     ]
    }
   ],
   "source": [
    "# Question and Answer 4\n",
    "\n",
    "#Write a program that takes an amount in Euros as input. You need to find its equivalent in\n",
    "#Rupees and display it. Assume 1 Euro equals Rs. 80.\n",
    "#Please note that you are expected to stick to the given input and output\n",
    "#format as in sample test cases. Please don't add any extra lines such as\n",
    "#'Enter a number', etc.\n",
    "#Your program should take only one number as input and display the output.\n",
    "\n",
    "Euros = float(input(\"Please enter Euros:\"))\n",
    "rupees = Euros * 80\n",
    "print(rupees, \" Rupees\")"
   ]
  }
 ],
 "metadata": {
  "kernelspec": {
   "display_name": "Python 3",
   "language": "python",
   "name": "python3"
  },
  "language_info": {
   "codemirror_mode": {
    "name": "ipython",
    "version": 3
   },
   "file_extension": ".py",
   "mimetype": "text/x-python",
   "name": "python",
   "nbconvert_exporter": "python",
   "pygments_lexer": "ipython3",
   "version": "3.8.3"
  }
 },
 "nbformat": 4,
 "nbformat_minor": 4
}
