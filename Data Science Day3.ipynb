{
 "cells": [
  {
   "cell_type": "code",
   "execution_count": 33,
   "metadata": {},
   "outputs": [
    {
     "name": "stdout",
     "output_type": "stream",
     "text": [
      "[ 2  5  8 11 14 17 20 23 26 29 32 35 38 41 44 47]\n"
     ]
    }
   ],
   "source": [
    "#Questions 1:\n",
    "#Create a numpy array starting from 2 till 50 with a stepsize of 3\n",
    "import numpy as np\n",
    "arr = np.arange(2, 50, 3)\n",
    "print(arr)"
   ]
  },
  {
   "cell_type": "code",
   "execution_count": 20,
   "metadata": {},
   "outputs": [
    {
     "name": "stdout",
     "output_type": "stream",
     "text": [
      "Enter a list1 elements separated by space 2 4 6 8 10\n",
      "\n",
      "\n",
      "user list 1  ['2', '4', '6', '8', '10']\n",
      "Enter a list2 elements separated by space 20 30 40 50 60\n",
      "user list 2  ['20', '30', '40', '50', '60']\n",
      "List: ['2', '4', '6', '8', '10'] ['20', '30', '40', '50', '60']\n",
      "Array:  ['2' '4' '6' '8' '10' '20' '30' '40' '50' '60']\n"
     ]
    }
   ],
   "source": [
    "#Questions 2\n",
    "#Accept two lists of 5 elements each from the user.\n",
    "#Convert them to numpy arrays. Concatenate these arrays and print it. Also sort these arrays and print it\n",
    "\n",
    "input_string = input(\"Enter a list1 elements separated by space \")\n",
    "\n",
    "print(\"\\n\")\n",
    "userList1 = input_string.split()\n",
    "print(\"user list 1 \", userList1)\n",
    "      \n",
    "input_string = input(\"Enter a list2 elements separated by space \")\n",
    "userList2 = input_string.split()\n",
    "print(\"user list 2 \", userList2)\n",
    "# converting list to array\n",
    "import numpy as np\n",
    "arr = np.append(userList1,userList2)\n",
    "# displaying list\n",
    "print (\"List:\", userList1,userList2) \n",
    "# displaying array\n",
    "print (\"Array: \", arr)"
   ]
  },
  {
   "cell_type": "code",
   "execution_count": 25,
   "metadata": {},
   "outputs": [
    {
     "name": "stdout",
     "output_type": "stream",
     "text": [
      "[[1 2 3]\n",
      " [4 5 6]\n",
      " [7 8 9]]\n",
      "\n",
      "[[1 4 7]\n",
      " [2 5 8]\n",
      " [3 6 9]]\n"
     ]
    }
   ],
   "source": [
    "#Questions 3\n",
    "# Write a code snippet to find the dimensions of a ndarray\n",
    "import numpy as np \n",
    "  \n",
    "# making a 3x3 array \n",
    "Nd = np.array([[1, 2, 3], \n",
    "                [4, 5, 6], \n",
    "                [7, 8, 9]]) \n",
    "  \n",
    "# before transpose \n",
    "print(Nd, end ='\\n\\n') \n",
    "  \n",
    "# after transpose \n",
    "print(Nd.transpose())"
   ]
  },
  {
   "cell_type": "code",
   "execution_count": 28,
   "metadata": {},
   "outputs": [
    {
     "data": {
      "text/plain": [
       "(6, 1)"
      ]
     },
     "execution_count": 28,
     "metadata": {},
     "output_type": "execute_result"
    }
   ],
   "source": [
    "#Questions 4\n",
    "# How to convert a 1D array into a 2D array? Demonstrate with the help of a code snippet\n",
    "# Hint: np.newaxis, np.expand_dims\n",
    "a = np.array([1, 2, 3, 4, 5, 6])\n",
    "a.shape\n",
    "a1 = a[np.newaxis, :]\n",
    "a1.shape\n",
    "(1, 6)\n",
    "b = np.expand_dims(a, axis=1)\n",
    "b.shape\n",
    "(6, 1)"
   ]
  },
  {
   "cell_type": "code",
   "execution_count": 30,
   "metadata": {},
   "outputs": [
    {
     "name": "stdout",
     "output_type": "stream",
     "text": [
      "Vertical Append: [[1 2 3]\n",
      " [4 5 6]]\n",
      "Horizontal Append: [1 2 3 4 5 6]\n"
     ]
    }
   ],
   "source": [
    "# Questions 5:\n",
    "# Consider two square numpy arrays. Stack them vertically and horizontally.\n",
    "# #Hint: Use vstack(), hstack()\n",
    "\n",
    "## Vertical Stack\n",
    "import numpy as np\n",
    "a = np.array([1,2,3])\n",
    "b = np.array([4,5,6])\n",
    "\n",
    "print('Vertical Append:', np.vstack((a, b)))\n",
    "import numpy as np\n",
    "c = np.array([1,2,3])\n",
    "d = np.array([4,5,6])\n",
    "\n",
    "print('Horizontal Append:', np.hstack((c, d)))"
   ]
  },
  {
   "cell_type": "code",
   "execution_count": 32,
   "metadata": {},
   "outputs": [
    {
     "name": "stdout",
     "output_type": "stream",
     "text": [
      "Original array:\n",
      "[10 10 20 10 20 20 20 30 30 50 40 40]\n",
      "Total Count of unique items in the said array:\n",
      "[[10 20 30 40 50]\n",
      " [ 3  4  2  2  1]]\n"
     ]
    }
   ],
   "source": [
    "# Questions 6:\n",
    "# How to get unique items and counts of unique items?\n",
    "import numpy as np\n",
    "a = np.array( [10,10,20,10,20,20,20,30, 30,50,40,40] )\n",
    "print(\"Original array:\")\n",
    "print(a)\n",
    "unique_elements, counts_elements = np.unique(a, return_counts=True)\n",
    "print(\"Total Count of unique items in the said array:\")\n",
    "print(np.asarray((unique_elements, counts_elements)))"
   ]
  }
 ],
 "metadata": {
  "kernelspec": {
   "display_name": "Python 3",
   "language": "python",
   "name": "python3"
  },
  "language_info": {
   "codemirror_mode": {
    "name": "ipython",
    "version": 3
   },
   "file_extension": ".py",
   "mimetype": "text/x-python",
   "name": "python",
   "nbconvert_exporter": "python",
   "pygments_lexer": "ipython3",
   "version": "3.8.3"
  }
 },
 "nbformat": 4,
 "nbformat_minor": 4
}
